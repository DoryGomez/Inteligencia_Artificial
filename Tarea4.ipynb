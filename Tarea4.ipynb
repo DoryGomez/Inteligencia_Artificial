{
  "nbformat": 4,
  "nbformat_minor": 0,
  "metadata": {
    "colab": {
      "name": "Tarea4.ipynb",
      "provenance": [],
      "authorship_tag": "ABX9TyP5udtCUeBG+mWSmiaTIM7r",
      "include_colab_link": true
    },
    "kernelspec": {
      "name": "python3",
      "display_name": "Python 3"
    },
    "language_info": {
      "name": "python"
    }
  },
  "cells": [
    {
      "cell_type": "markdown",
      "metadata": {
        "id": "view-in-github",
        "colab_type": "text"
      },
      "source": [
        "<a href=\"https://colab.research.google.com/github/DoryGomez/Inteligencia_Artificial/blob/main/Tarea4.ipynb\" target=\"_parent\"><img src=\"https://colab.research.google.com/assets/colab-badge.svg\" alt=\"Open In Colab\"/></a>"
      ]
    },
    {
      "cell_type": "code",
      "metadata": {
        "id": "q6d3pp9vBmGx"
      },
      "source": [
        "import pandas as pd\n",
        "#from sklearn.metrics import r2_score\n",
        "#from sklearn.linear_model import LinearRegression\n",
        "import numpy as np\n",
        "from mpl_toolkits import mplot3d\n",
        "import matplotlib.pyplot as plt"
      ],
      "execution_count": 98,
      "outputs": []
    },
    {
      "cell_type": "code",
      "metadata": {
        "colab": {
          "base_uri": "https://localhost:8080/"
        },
        "id": "NHX4Ohc8BuBC",
        "outputId": "5a3aa1e9-ff3f-41ed-a2c8-2a3e63430a12"
      },
      "source": [
        "df = pd.read_excel('suplemento_Regresion_Lineal.xlsx', sheet_name='ejemplo resistencia', index_col = 0)\n",
        "df.head()\n",
        "\n",
        "datos = df.iloc[0:11,0:2]\n",
        "print(datos)"
      ],
      "execution_count": 86,
      "outputs": [
        {
          "output_type": "stream",
          "name": "stdout",
          "text": [
            "    Voltaje  Corriente\n",
            "j=                    \n",
            "0       1.0   0.169610\n",
            "1       1.5   0.283396\n",
            "2       2.0   0.386359\n",
            "3       2.5   0.470228\n",
            "4       3.0   0.433281\n",
            "5       3.5   0.600268\n",
            "6       4.0   0.738339\n",
            "7       4.5   0.790315\n",
            "8       5.0   0.877464\n",
            "9       5.5   0.843564\n",
            "10      6.0   0.964439\n"
          ]
        }
      ]
    },
    {
      "cell_type": "code",
      "metadata": {
        "colab": {
          "base_uri": "https://localhost:8080/",
          "height": 349
        },
        "id": "-mw5d6TuLLr7",
        "outputId": "ce883706-704e-4a42-dd34-fef21c3813fb"
      },
      "source": [
        "y_true = np.array(datos['Voltaje'])[0:]\n",
        "y_pred = np.array(datos['Corriente'])[0:]\n",
        "\n",
        "print('y = ',y_pred)\n",
        "print('x = ',y_true)\n",
        "\n",
        "N = len (y_true)\n",
        "A=np.zeros((N,2))\n",
        "A.T[0] = y_true**0\n",
        "A.T[1] = y_true**1\n",
        "b = y_pred\n",
        "\n",
        "\n",
        "#min cuadrados\n",
        "B = np.dot(A.T,A)\n",
        "c = np.dot(A.T,b)\n",
        "a = np.linalg.solve(B,c)\n",
        "\n",
        "xteo = y_true\n",
        "yteo = a[0]+a[1]*y_true\n",
        "\n",
        "#coef correlacion\n",
        "yprom = y_pred.mean()\n",
        "R= 1-np.sum((yteo-y_pred)**2)/np.sum((yprom-y_pred)**2)\n",
        "print('\\n  R^2 = ',R)\n",
        "\n",
        "plt.plot(y_true,y_pred,'ro')\n",
        "plt.plot(xteo,yteo)\n",
        "plt.show()"
      ],
      "execution_count": 107,
      "outputs": [
        {
          "output_type": "stream",
          "name": "stdout",
          "text": [
            "y =  [0.16961027 0.28339581 0.38635874 0.47022787 0.43328129 0.60026765\n",
            " 0.73833898 0.79031502 0.87746427 0.84356446 0.96443892]\n",
            "x =  [1.  1.5 2.  2.5 3.  3.5 4.  4.5 5.  5.5 6. ]\n",
            "\n",
            "  R^2 =  0.9678913144832823\n"
          ]
        },
        {
          "output_type": "display_data",
          "data": {
            "image/png": "[encoded data removed]",
            "text/plain": [
              "<Figure size 432x288 with 1 Axes>"
            ]
          },
          "metadata": {
            "needs_background": "light"
          }
        }
      ]
    }
  ]
}