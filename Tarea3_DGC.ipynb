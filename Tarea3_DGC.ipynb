{
  "nbformat": 4,
  "nbformat_minor": 0,
  "metadata": {
    "colab": {
      "name": "Tarea3_DGC.ipynb",
      "provenance": [],
      "authorship_tag": "ABX9TyPnWum0uBl5QL+yxjv3frNq",
      "include_colab_link": true
    },
    "kernelspec": {
      "name": "python3",
      "display_name": "Python 3"
    },
    "language_info": {
      "name": "python"
    }
  },
  "cells": [
    {
      "cell_type": "markdown",
      "metadata": {
        "id": "view-in-github",
        "colab_type": "text"
      },
      "source": [
        "<a href=\"https://colab.research.google.com/github/DoryGomez/Inteligencia_Artificial/blob/main/Tarea3_DGC.ipynb\" target=\"_parent\"><img src=\"https://colab.research.google.com/assets/colab-badge.svg\" alt=\"Open In Colab\"/></a>"
      ]
    },
    {
      "cell_type": "markdown",
      "metadata": {
        "id": "RgsTEhRlF39V"
      },
      "source": [
        "## ORO!!! Forecasting"
      ]
    },
    {
      "cell_type": "code",
      "metadata": {
        "id": "N7tyhnsLGA30"
      },
      "source": [
        "## Importando las librerías\n",
        "import pandas as pd\n",
        "import numpy as np\n",
        "from mpl_toolkits import mplot3d\n",
        "import matplotlib.pyplot as plt"
      ],
      "execution_count": 12,
      "outputs": []
    },
    {
      "cell_type": "code",
      "metadata": {
        "id": "Opw7aPwUGEoV"
      },
      "source": [
        "dataframeGold = pd.read_csv('gold_price_data.csv')\n"
      ],
      "execution_count": 13,
      "outputs": []
    },
    {
      "cell_type": "code",
      "metadata": {
        "colab": {
          "base_uri": "https://localhost:8080/",
          "height": 394
        },
        "id": "e7n6GXFSHb5q",
        "outputId": "5fab8387-2e4a-403c-e120-1661ae746fc2"
      },
      "source": [
        "print(dataframeGold.dtypes)\n",
        "dataframeGold.head(10)"
      ],
      "execution_count": 14,
      "outputs": [
        {
          "output_type": "stream",
          "text": [
            "Date      object\n",
            "Value    float64\n",
            "dtype: object\n"
          ],
          "name": "stdout"
        },
        {
          "output_type": "execute_result",
          "data": {
            "text/html": [
              "<div>\n",
              "<style scoped>\n",
              "    .dataframe tbody tr th:only-of-type {\n",
              "        vertical-align: middle;\n",
              "    }\n",
              "\n",
              "    .dataframe tbody tr th {\n",
              "        vertical-align: top;\n",
              "    }\n",
              "\n",
              "    .dataframe thead th {\n",
              "        text-align: right;\n",
              "    }\n",
              "</style>\n",
              "<table border=\"1\" class=\"dataframe\">\n",
              "  <thead>\n",
              "    <tr style=\"text-align: right;\">\n",
              "      <th></th>\n",
              "      <th>Date</th>\n",
              "      <th>Value</th>\n",
              "    </tr>\n",
              "  </thead>\n",
              "  <tbody>\n",
              "    <tr>\n",
              "      <th>0</th>\n",
              "      <td>01/01/1970</td>\n",
              "      <td>35.2</td>\n",
              "    </tr>\n",
              "    <tr>\n",
              "      <th>1</th>\n",
              "      <td>01/04/1970</td>\n",
              "      <td>35.1</td>\n",
              "    </tr>\n",
              "    <tr>\n",
              "      <th>2</th>\n",
              "      <td>01/07/1970</td>\n",
              "      <td>35.4</td>\n",
              "    </tr>\n",
              "    <tr>\n",
              "      <th>3</th>\n",
              "      <td>01/10/1970</td>\n",
              "      <td>36.2</td>\n",
              "    </tr>\n",
              "    <tr>\n",
              "      <th>4</th>\n",
              "      <td>01/01/1971</td>\n",
              "      <td>37.4</td>\n",
              "    </tr>\n",
              "    <tr>\n",
              "      <th>5</th>\n",
              "      <td>01/04/1971</td>\n",
              "      <td>38.9</td>\n",
              "    </tr>\n",
              "    <tr>\n",
              "      <th>6</th>\n",
              "      <td>01/07/1971</td>\n",
              "      <td>40.1</td>\n",
              "    </tr>\n",
              "    <tr>\n",
              "      <th>7</th>\n",
              "      <td>01/10/1971</td>\n",
              "      <td>42.0</td>\n",
              "    </tr>\n",
              "    <tr>\n",
              "      <th>8</th>\n",
              "      <td>03/01/1972</td>\n",
              "      <td>43.5</td>\n",
              "    </tr>\n",
              "    <tr>\n",
              "      <th>9</th>\n",
              "      <td>03/04/1972</td>\n",
              "      <td>48.3</td>\n",
              "    </tr>\n",
              "  </tbody>\n",
              "</table>\n",
              "</div>"
            ],
            "text/plain": [
              "         Date  Value\n",
              "0  01/01/1970   35.2\n",
              "1  01/04/1970   35.1\n",
              "2  01/07/1970   35.4\n",
              "3  01/10/1970   36.2\n",
              "4  01/01/1971   37.4\n",
              "5  01/04/1971   38.9\n",
              "6  01/07/1971   40.1\n",
              "7  01/10/1971   42.0\n",
              "8  03/01/1972   43.5\n",
              "9  03/04/1972   48.3"
            ]
          },
          "metadata": {},
          "execution_count": 14
        }
      ]
    },
    {
      "cell_type": "code",
      "metadata": {
        "colab": {
          "base_uri": "https://localhost:8080/"
        },
        "id": "k0kuvBqqIDr9",
        "outputId": "abf7590a-8b08-4a92-873a-73b92f64baca"
      },
      "source": [
        "## Datos\n",
        "etiqueta = np.array(dataframeGold['Value'])[2:]\n",
        "car_m1 = np.array(dataframeGold['Value'])[1:-1]\n",
        "car_m2 = car_m1\n",
        "print(\"%d datos cargados para etiqueta\" % len(etiqueta))\n",
        "print(\"%d datos cargados para car_m1\" % len(car_m1))\n"
      ],
      "execution_count": 19,
      "outputs": [
        {
          "output_type": "stream",
          "text": [
            "10785 datos cargados para etiqueta\n",
            "10785 datos cargados para car_m1\n"
          ],
          "name": "stdout"
        }
      ]
    },
    {
      "cell_type": "code",
      "metadata": {
        "colab": {
          "base_uri": "https://localhost:8080/"
        },
        "id": "aRPGBtZ_PD3O",
        "outputId": "a3a6a7fe-66d1-4e3b-85a0-ab2c2bcb7d0a"
      },
      "source": [
        "def funcCosto(arr_1, arr_2):\n",
        "  J = np.power(arr_1-arr_2,2)\n",
        "  return np.sum(J)/(2*len(J))\n",
        "\n",
        "  ## Prueba de la función de costo\n",
        "print(funcCosto(etiqueta,etiqueta))\n",
        "print(funcCosto(np.array([0, 1, 0, 1, 0,1]),np.array([1, 0, 1, 1, 1,1])))"
      ],
      "execution_count": 36,
      "outputs": [
        {
          "output_type": "stream",
          "text": [
            "0.0\n",
            "0.3333333333333333\n"
          ],
          "name": "stdout"
        }
      ]
    },
    {
      "cell_type": "code",
      "metadata": {
        "colab": {
          "base_uri": "https://localhost:8080/"
        },
        "id": "PUNZEyOVPJm_",
        "outputId": "317fc634-43de-480a-cc07-7af805219758"
      },
      "source": [
        "## Pasos GridSearch\n",
        "#  h(x) = T0 + T1*x\n",
        "\n",
        "# 1. Valores a T0 a T1\n",
        "dict_resultados = dict()\n",
        "for T0 in np.arange(-10,10,10/100):\n",
        "  for T1 in np.arange(-10,10,10/100):\n",
        "\n",
        "#   2. Encuentras h(x)\n",
        "    h_x = T0 + T1*car_m1\n",
        "\n",
        "#   3. Evalúar la función de costo\n",
        "    dict_resultados[(T0,T1)]=funcCosto(h_x,etiqueta)\n",
        "    \n",
        "# 4. Encontrar el menor\n",
        "parameters = list(dict_resultados.keys())\n",
        "#print(parameters)\n",
        "costValues = np.array(list(dict_resultados.values()))\n",
        "#print(costValues)\n",
        "indexMinCost = costValues.argmin()\n",
        "print(indexMinCost)\n",
        "bestParameters = parameters[indexMinCost]\n",
        "print(\"Los mejores parámetros son:\",bestParameters,\"donde la función de costo retornó: \",costValues[indexMinCost])"
      ],
      "execution_count": 37,
      "outputs": [
        {
          "output_type": "stream",
          "text": [
            "20310\n",
            "Los mejores parámetros son: (0.09999999999996412, 0.9999999999999609) donde la función de costo retornó:  40.79981759851674\n"
          ],
          "name": "stdout"
        }
      ]
    },
    {
      "cell_type": "code",
      "metadata": {
        "colab": {
          "base_uri": "https://localhost:8080/",
          "height": 298
        },
        "id": "_jt-OImlPOBO",
        "outputId": "547fe8b8-e390-4011-c7eb-a2638addd7cd"
      },
      "source": [
        "print(\"Los mejores parámetros son:\",bestParameters,\"donde la función de costo retornó: \",costValues[indexMinCost])\n",
        "plt.scatter(car_m1,etiqueta)\n",
        "x = np.arange(car_m1.min(),car_m1.max(),(car_m1.max()-car_m1.min())/1000)\n",
        "plt.plot(x,bestParameters[0]+bestParameters[1]*x,'r-')\n",
        "plt.title(\"Muestras e Hipótesis\")\n",
        "plt.show()"
      ],
      "execution_count": 38,
      "outputs": [
        {
          "output_type": "stream",
          "text": [
            "Los mejores parámetros son: (0.09999999999996412, 0.9999999999999609) donde la función de costo retornó:  40.79981759851674\n"
          ],
          "name": "stdout"
        },
        {
          "output_type": "display_data",
          "data": {
            "image/png": "[encoded data removed]",
            "text/plain": [
              "<Figure size 432x288 with 1 Axes>"
            ]
          },
          "metadata": {
            "needs_background": "light"
          }
        }
      ]
    },
    {
      "cell_type": "code",
      "metadata": {
        "colab": {
          "base_uri": "https://localhost:8080/",
          "height": 248
        },
        "id": "FnEmBmwHPRlQ",
        "outputId": "80424a23-ac8b-4f30-81a9-4a31ada697f1"
      },
      "source": [
        "fig = plt.figure()\n",
        "ax = plt.axes(projection='3d')\n",
        "ax.scatter3D([p[0] for p in parameters],[p[1] for p in parameters],list(dict_resultados.values()))\n",
        "ax.set_xlabel('Teta 0')\n",
        "ax.set_ylabel('Teta 1')\n",
        "ax.set_zlabel('Cost');"
      ],
      "execution_count": 39,
      "outputs": [
        {
          "output_type": "display_data",
          "data": {
            "image/png": "[encoded data removed]",
            "text/plain": [
              "<Figure size 432x288 with 1 Axes>"
            ]
          },
          "metadata": {
            "needs_background": "light"
          }
        }
      ]
    }
  ]
}